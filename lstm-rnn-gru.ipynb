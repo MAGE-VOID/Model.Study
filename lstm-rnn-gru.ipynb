{
 "cells": [
  {
   "cell_type": "code",
   "execution_count": null,
   "id": "0f876dee",
   "metadata": {
    "execution": {
     "iopub.execute_input": "2023-12-26T09:33:23.001583Z",
     "iopub.status.busy": "2023-12-26T09:33:23.001149Z",
     "iopub.status.idle": "2023-12-26T09:33:40.973407Z",
     "shell.execute_reply": "2023-12-26T09:33:40.972224Z"
    },
    "papermill": {
     "duration": 17.998817,
     "end_time": "2023-12-26T09:33:40.976650",
     "exception": false,
     "start_time": "2023-12-26T09:33:22.977833",
     "status": "completed"
    },
    "tags": []
   },
   "outputs": [],
   "source": [
    "import pandas as pd\n",
    "import numpy as np\n",
    "import matplotlib.pyplot as plt\n",
    "import seaborn as sns\n",
    "import statsmodels.api as smi\n",
    "from statsmodels.tsa.seasonal import seasonal_decompose\n",
    "from sklearn.preprocessing import StandardScaler\n",
    "from sklearn.metrics import mean_squared_error, r2_score\n",
    "from keras.optimizers import Adam\n",
    "from keras.models import Sequential\n",
    "from keras.layers import LSTM, Dense, SimpleRNN, GRU\n",
    "from keras.initializers import HeNormal\n",
    "from keras_self_attention import SeqSelfAttention\n",
    "import MetaTrader5 as mt5\n",
    "from datetime import datetime\n",
    "import tf2onnx\n",
    "import os"
   ]
  },
  {
   "cell_type": "code",
   "execution_count": null,
   "id": "763992d4",
   "metadata": {
    "execution": {
     "iopub.execute_input": "2023-12-26T09:33:41.060923Z",
     "iopub.status.busy": "2023-12-26T09:33:41.059251Z",
     "iopub.status.idle": "2023-12-26T09:33:41.103878Z",
     "shell.execute_reply": "2023-12-26T09:33:41.102650Z"
    },
    "papermill": {
     "duration": 0.068876,
     "end_time": "2023-12-26T09:33:41.106524",
     "exception": false,
     "start_time": "2023-12-26T09:33:41.037648",
     "status": "completed"
    },
    "tags": []
   },
   "outputs": [],
   "source": [
    "mt5.initialize()\n",
    "inp_start_date = datetime(2010, 1, 1) # Start Date\n",
    "inp_end_date = datetime(2023, 12, 31) # End Date\n",
    "\n",
    "symbols = [\"EURUSD\", \"EURJPY\"] # Custom Symbol\n",
    "\"\"\" \n",
    "symbols = [\"AUDCAD\", \"AUDCHF\", \"AUDJPY\", \"AUDNZD\", \"AUDUSD\", \"CADCHF\", \"CADJPY\", \"CHFJPY\",\n",
    "           \"EURAUD\", \"EURCAD\", \"EURCHF\", \"EURGBP\", \"EURJPY\", \"EURNZD\", \"EURUSD\", \"GBPAUD\",\n",
    "           \"GBPCAD\", \"GBPCHF\", \"GBPJPY\", \"GBPNZD\", \"GBPUSD\", \"NZDCAD\", \"NZDCHF\", \"NZDJPY\",\n",
    "           \"NZDUSD\", \"USDCAD\", \"USDCHF\", \"USDJPY\", \"USDSGD\"] # All Symbols\n",
    "\"\"\"\n",
    "\n",
    "\n",
    "# Get data from the client terminal\n",
    "symbols_data = {}\n",
    "for symbol in symbols:\n",
    "    symbol_rates = mt5.copy_rates_range(symbol, mt5.TIMEFRAME_D1, inp_start_date, inp_end_date)\n",
    "    symbols_data[symbol] = {\"data\": pd.DataFrame(symbol_rates)}\n",
    "\n",
    "# Concatenate data for all symbols\n",
    "df = pd.concat([symbols_data[symbol][\"data\"] for symbol in symbols], keys=symbols)\n",
    "df = df.rename(columns={'time': 'date'})\n",
    "df = df.rename(columns={'tick_volume': 'volume'})\n",
    "df = df.drop(columns=['spread', 'real_volume'])\n",
    "df['date'] = pd.to_datetime(df['date'], unit='s')\n",
    "\n",
    "# Convert numeric columns to float64 data type\n",
    "numeric_columns = ['open', 'high', 'low', 'close', 'volume']\n",
    "df[numeric_columns] = df[numeric_columns].astype('float64')\n",
    "\n",
    "# Standardize all columns for each symbol\n",
    "scaler = StandardScaler()\n",
    "for symbol in symbols:\n",
    "    df.loc[symbol, numeric_columns] = scaler.fit_transform(df.loc[symbol, numeric_columns])\n",
    "\n",
    "# Plot standardized data\n",
    "plt.figure(figsize=(20, 6))\n",
    "for symbol in symbols:\n",
    "    plt.plot(df.loc[symbol]['date'], df.loc[symbol]['close'], label=symbol) \n",
    "\n",
    "plt.xlabel('Date')\n",
    "plt.ylabel('Standardized')\n",
    "plt.legend()\n",
    "plt.title('Symbols')\n",
    "plt.show() "
   ]
  },
  {
   "cell_type": "code",
   "execution_count": null,
   "id": "4d9ea48d",
   "metadata": {
    "execution": {
     "iopub.execute_input": "2023-12-26T09:33:41.149051Z",
     "iopub.status.busy": "2023-12-26T09:33:41.148614Z",
     "iopub.status.idle": "2023-12-26T09:33:41.177447Z",
     "shell.execute_reply": "2023-12-26T09:33:41.176466Z"
    },
    "papermill": {
     "duration": 0.052587,
     "end_time": "2023-12-26T09:33:41.179699",
     "exception": false,
     "start_time": "2023-12-26T09:33:41.127112",
     "status": "completed"
    },
    "tags": []
   },
   "outputs": [],
   "source": [
    "df.head()"
   ]
  },
  {
   "cell_type": "code",
   "execution_count": null,
   "id": "854fd372",
   "metadata": {
    "execution": {
     "iopub.execute_input": "2023-12-26T09:33:41.224383Z",
     "iopub.status.busy": "2023-12-26T09:33:41.223462Z",
     "iopub.status.idle": "2023-12-26T09:33:41.256136Z",
     "shell.execute_reply": "2023-12-26T09:33:41.254665Z"
    },
    "papermill": {
     "duration": 0.057844,
     "end_time": "2023-12-26T09:33:41.258940",
     "exception": false,
     "start_time": "2023-12-26T09:33:41.201096",
     "status": "completed"
    },
    "tags": []
   },
   "outputs": [],
   "source": [
    "df.info()"
   ]
  },
  {
   "cell_type": "code",
   "execution_count": null,
   "id": "27937599",
   "metadata": {
    "execution": {
     "iopub.execute_input": "2023-12-26T09:33:41.366284Z",
     "iopub.status.busy": "2023-12-26T09:33:41.365460Z",
     "iopub.status.idle": "2023-12-26T09:33:41.400514Z",
     "shell.execute_reply": "2023-12-26T09:33:41.399284Z"
    },
    "papermill": {
     "duration": 0.059961,
     "end_time": "2023-12-26T09:33:41.403126",
     "exception": false,
     "start_time": "2023-12-26T09:33:41.343165",
     "status": "completed"
    },
    "tags": []
   },
   "outputs": [],
   "source": [
    "df.describe()"
   ]
  },
  {
   "cell_type": "code",
   "execution_count": null,
   "id": "e564845a",
   "metadata": {
    "execution": {
     "iopub.execute_input": "2023-12-26T09:33:41.490475Z",
     "iopub.status.busy": "2023-12-26T09:33:41.490051Z",
     "iopub.status.idle": "2023-12-26T09:33:43.579862Z",
     "shell.execute_reply": "2023-12-26T09:33:43.578569Z"
    },
    "papermill": {
     "duration": 2.115277,
     "end_time": "2023-12-26T09:33:43.582553",
     "exception": false,
     "start_time": "2023-12-26T09:33:41.467276",
     "status": "completed"
    },
    "tags": []
   },
   "outputs": [],
   "source": [
    "df_plot = df[df['date'] >= '2000-01-01']\n",
    "\n",
    "# Create a figure and subgraphs\n",
    "plt.figure(figsize=(14, 7))\n",
    "\n",
    "# Iterate over the columns and create the subgraphs\n",
    "for i, column in enumerate(['open', 'high', 'low', 'close', 'volume']):\n",
    "    plt.subplot(2, 3, i+1)\n",
    "    df_plot[column].hist(bins=50)\n",
    "    plt.title(column)\n",
    "\n",
    "# Adjust the layout and show the figure\n",
    "plt.tight_layout()\n",
    "plt.show()"
   ]
  },
  {
   "cell_type": "markdown",
   "id": "82a4580d",
   "metadata": {
    "papermill": {
     "duration": 0.023637,
     "end_time": "2023-12-26T09:33:43.942421",
     "exception": false,
     "start_time": "2023-12-26T09:33:43.918784",
     "status": "completed"
    },
    "tags": []
   },
   "source": [
    "# Data Analysis"
   ]
  },
  {
   "cell_type": "code",
   "execution_count": null,
   "id": "9fba4f47",
   "metadata": {
    "execution": {
     "iopub.execute_input": "2023-12-26T09:33:43.632376Z",
     "iopub.status.busy": "2023-12-26T09:33:43.631977Z",
     "iopub.status.idle": "2023-12-26T09:33:43.649507Z",
     "shell.execute_reply": "2023-12-26T09:33:43.648287Z"
    },
    "papermill": {
     "duration": 0.047262,
     "end_time": "2023-12-26T09:33:43.652436",
     "exception": false,
     "start_time": "2023-12-26T09:33:43.605174",
     "status": "completed"
    },
    "tags": []
   },
   "outputs": [],
   "source": [
    "# Converting the 'Date' column to datetime format and set it as the index\n",
    "df['date'] = pd.to_datetime(df['date'])\n",
    "df.set_index('date', inplace=True)"
   ]
  },
  {
   "cell_type": "code",
   "execution_count": null,
   "id": "3846a958",
   "metadata": {
    "execution": {
     "iopub.execute_input": "2023-12-26T09:33:43.706622Z",
     "iopub.status.busy": "2023-12-26T09:33:43.705897Z",
     "iopub.status.idle": "2023-12-26T09:33:43.715494Z",
     "shell.execute_reply": "2023-12-26T09:33:43.714618Z"
    },
    "papermill": {
     "duration": 0.036883,
     "end_time": "2023-12-26T09:33:43.717999",
     "exception": false,
     "start_time": "2023-12-26T09:33:43.681116",
     "status": "completed"
    },
    "tags": []
   },
   "outputs": [],
   "source": [
    "df.mean()"
   ]
  },
  {
   "cell_type": "code",
   "execution_count": null,
   "id": "2eeb2f96",
   "metadata": {
    "execution": {
     "iopub.execute_input": "2023-12-26T09:33:43.767437Z",
     "iopub.status.busy": "2023-12-26T09:33:43.766656Z",
     "iopub.status.idle": "2023-12-26T09:33:43.776552Z",
     "shell.execute_reply": "2023-12-26T09:33:43.775568Z"
    },
    "papermill": {
     "duration": 0.038086,
     "end_time": "2023-12-26T09:33:43.778895",
     "exception": false,
     "start_time": "2023-12-26T09:33:43.740809",
     "status": "completed"
    },
    "tags": []
   },
   "outputs": [],
   "source": [
    "df.median()"
   ]
  },
  {
   "cell_type": "code",
   "execution_count": null,
   "id": "7a68cd30",
   "metadata": {
    "execution": {
     "iopub.execute_input": "2023-12-26T09:33:43.827679Z",
     "iopub.status.busy": "2023-12-26T09:33:43.826989Z",
     "iopub.status.idle": "2023-12-26T09:33:43.836021Z",
     "shell.execute_reply": "2023-12-26T09:33:43.835030Z"
    },
    "papermill": {
     "duration": 0.036074,
     "end_time": "2023-12-26T09:33:43.838359",
     "exception": false,
     "start_time": "2023-12-26T09:33:43.802285",
     "status": "completed"
    },
    "tags": []
   },
   "outputs": [],
   "source": [
    "df.skew()"
   ]
  },
  {
   "cell_type": "code",
   "execution_count": null,
   "id": "8e65b680",
   "metadata": {
    "execution": {
     "iopub.execute_input": "2023-12-26T09:33:43.887569Z",
     "iopub.status.busy": "2023-12-26T09:33:43.886850Z",
     "iopub.status.idle": "2023-12-26T09:33:43.892808Z",
     "shell.execute_reply": "2023-12-26T09:33:43.891791Z"
    },
    "papermill": {
     "duration": 0.03294,
     "end_time": "2023-12-26T09:33:43.895131",
     "exception": false,
     "start_time": "2023-12-26T09:33:43.862191",
     "status": "completed"
    },
    "tags": []
   },
   "outputs": [],
   "source": [
    "df.shape"
   ]
  },
  {
   "cell_type": "code",
   "execution_count": null,
   "id": "e32c8bf1",
   "metadata": {
    "execution": {
     "iopub.execute_input": "2023-12-26T09:33:43.991029Z",
     "iopub.status.busy": "2023-12-26T09:33:43.990289Z",
     "iopub.status.idle": "2023-12-26T09:33:45.401908Z",
     "shell.execute_reply": "2023-12-26T09:33:45.400620Z"
    },
    "papermill": {
     "duration": 1.438883,
     "end_time": "2023-12-26T09:33:45.404591",
     "exception": false,
     "start_time": "2023-12-26T09:33:43.965708",
     "status": "completed"
    },
    "tags": []
   },
   "outputs": [],
   "source": [
    "decomposition = seasonal_decompose(df['close'], model='additive', period=50)  # Assuming number of trading days in a year\n",
    "plt.figure(figsize=(14, 7))\n",
    "\n",
    "# Observed\n",
    "plt.subplot(411)\n",
    "plt.scatter(decomposition.observed.index, decomposition.observed, label='Observed', marker='.', s=5)\n",
    "plt.legend(loc='upper left')\n",
    "\n",
    "# Trend\n",
    "plt.subplot(412)\n",
    "plt.scatter(decomposition.trend.index, decomposition.trend, label='Trend', marker='.', s=5)\n",
    "plt.legend(loc='upper left')\n",
    "\n",
    "# Seasonality\n",
    "plt.subplot(413)\n",
    "plt.scatter(decomposition.seasonal.index, decomposition.seasonal, label='Seasonality', marker='.', s=5)\n",
    "plt.legend(loc='upper left')\n",
    "\n",
    "# Residuals\n",
    "plt.subplot(414)\n",
    "plt.scatter(decomposition.resid.index, decomposition.resid, label='Residuals', marker='.', s=5)\n",
    "plt.legend(loc='upper left')\n",
    "\n",
    "plt.tight_layout()\n",
    "plt.show()\n"
   ]
  },
  {
   "cell_type": "code",
   "execution_count": null,
   "id": "c95cf73e",
   "metadata": {
    "execution": {
     "iopub.execute_input": "2023-12-26T09:33:45.461240Z",
     "iopub.status.busy": "2023-12-26T09:33:45.460422Z",
     "iopub.status.idle": "2023-12-26T09:33:46.010834Z",
     "shell.execute_reply": "2023-12-26T09:33:46.009843Z"
    },
    "papermill": {
     "duration": 0.580714,
     "end_time": "2023-12-26T09:33:46.013242",
     "exception": false,
     "start_time": "2023-12-26T09:33:45.432528",
     "status": "completed"
    },
    "tags": []
   },
   "outputs": [],
   "source": [
    "skewness_values = df.skew()\n",
    "mean_values = df.mean()\n",
    "fig, ax = plt.subplots(1, 2, figsize=(15, 10))\n",
    "sns.barplot(x=skewness_values.index, y=skewness_values.values, ax=ax[0])\n",
    "ax[0].set_title('Skewness')\n",
    "ax[0].tick_params(axis='x', rotation=45)\n",
    "sns.barplot(x=mean_values.index, y=mean_values.values, ax=ax[1])\n",
    "ax[1].set_title('Mean')\n",
    "ax[1].tick_params(axis='x', rotation=45)\n",
    "plt.show()"
   ]
  },
  {
   "cell_type": "code",
   "execution_count": null,
   "id": "47a069d7",
   "metadata": {
    "execution": {
     "iopub.execute_input": "2023-12-26T09:33:46.072316Z",
     "iopub.status.busy": "2023-12-26T09:33:46.071271Z",
     "iopub.status.idle": "2023-12-26T09:33:47.575459Z",
     "shell.execute_reply": "2023-12-26T09:33:47.574273Z"
    },
    "papermill": {
     "duration": 1.537513,
     "end_time": "2023-12-26T09:33:47.578086",
     "exception": false,
     "start_time": "2023-12-26T09:33:46.040573",
     "status": "completed"
    },
    "tags": []
   },
   "outputs": [],
   "source": [
    "columns_per_row = 3\n",
    "num_columns = len(df.describe().columns)\n",
    "num_rows = -(-num_columns // columns_per_row)\n",
    "\n",
    "fig, ax = plt.subplots(num_rows, columns_per_row, figsize=(15, 10))\n",
    "plt.subplots_adjust(wspace=0.5, hspace=0.5)\n",
    "\n",
    "for i, column in enumerate(df.describe().columns):\n",
    "    current_row = i // columns_per_row\n",
    "    current_column = i % columns_per_row\n",
    "    sns.boxplot(df[column], ax=ax[current_row, current_column])\n",
    "    ax[current_row, current_column].set_title(column)\n",
    "\n",
    "plt.show()"
   ]
  },
  {
   "cell_type": "code",
   "execution_count": null,
   "id": "3d88a032",
   "metadata": {
    "execution": {
     "iopub.execute_input": "2023-12-26T09:33:47.634445Z",
     "iopub.status.busy": "2023-12-26T09:33:47.633950Z",
     "iopub.status.idle": "2023-12-26T09:33:50.531642Z",
     "shell.execute_reply": "2023-12-26T09:33:50.530452Z"
    },
    "papermill": {
     "duration": 2.92955,
     "end_time": "2023-12-26T09:33:50.534697",
     "exception": false,
     "start_time": "2023-12-26T09:33:47.605147",
     "status": "completed"
    },
    "tags": []
   },
   "outputs": [],
   "source": [
    "columns_per_row = 3\n",
    "num_columns = len(df.describe().columns)\n",
    "num_rows = -(-num_columns // columns_per_row)\n",
    "\n",
    "fig, ax = plt.subplots(num_rows, columns_per_row, figsize=(15, 15))\n",
    "plt.subplots_adjust(wspace=0.5, hspace=0.5)\n",
    "\n",
    "for i, column in enumerate(df.describe().columns):\n",
    "    current_row = i // columns_per_row\n",
    "    current_column = i % columns_per_row\n",
    "    \n",
    "    sns.histplot(df[column], ax=ax[current_row, current_column], color='blue', stat=\"density\", kde_kws={'bw_method': 0.2})\n",
    "    \n",
    "    sns.kdeplot(df[column], ax=ax[current_row, current_column], color='red', linewidth=2)\n",
    "    \n",
    "    ax[current_row, current_column].set_title(column)\n",
    "\n",
    "plt.show()"
   ]
  },
  {
   "cell_type": "code",
   "execution_count": null,
   "id": "a54f8ca0",
   "metadata": {
    "execution": {
     "iopub.execute_input": "2023-12-26T09:33:50.594163Z",
     "iopub.status.busy": "2023-12-26T09:33:50.592677Z",
     "iopub.status.idle": "2023-12-26T09:33:52.055847Z",
     "shell.execute_reply": "2023-12-26T09:33:52.054273Z"
    },
    "papermill": {
     "duration": 1.49561,
     "end_time": "2023-12-26T09:33:52.058420",
     "exception": false,
     "start_time": "2023-12-26T09:33:50.562810",
     "status": "completed"
    },
    "tags": []
   },
   "outputs": [],
   "source": [
    "columns_per_row = 3\n",
    "num_columns = len(df.describe().columns)\n",
    "num_rows = -(-num_columns // columns_per_row)\n",
    "\n",
    "fig, ax = plt.subplots(num_rows, columns_per_row, figsize=(15, 15))\n",
    "plt.subplots_adjust(wspace=0.5, hspace=0.5)\n",
    "\n",
    "for i, column in enumerate(df.describe().columns):\n",
    "    current_row = i // columns_per_row\n",
    "    current_column = i % columns_per_row\n",
    "    \n",
    "    smi.qqplot(df[column], ax=ax[current_row, current_column], line=\"r\")\n",
    "    ax[current_row, current_column].set_title(column)\n",
    "\n",
    "plt.show()"
   ]
  },
  {
   "cell_type": "code",
   "execution_count": null,
   "id": "ab827201",
   "metadata": {
    "execution": {
     "iopub.execute_input": "2023-12-26T09:33:52.121119Z",
     "iopub.status.busy": "2023-12-26T09:33:52.120681Z",
     "iopub.status.idle": "2023-12-26T09:33:53.930678Z",
     "shell.execute_reply": "2023-12-26T09:33:53.929450Z"
    },
    "papermill": {
     "duration": 1.845703,
     "end_time": "2023-12-26T09:33:53.934461",
     "exception": false,
     "start_time": "2023-12-26T09:33:52.088758",
     "status": "completed"
    },
    "tags": []
   },
   "outputs": [],
   "source": [
    "fig, ax = plt.subplots(2, 2, figsize=(15, 8))\n",
    "sns.lineplot(data=df, x='date', y='high', label='high', ax = ax[0,0])\n",
    "sns.lineplot(data=df, x='date', y='open', label='low',ax = ax[0,1])\n",
    "sns.lineplot(data=df, x='date', y='low', label='close',ax = ax[1,0])\n",
    "sns.lineplot(data=df, x='date', y='close', label='open',ax = ax[1,1])\n",
    "plt.show()"
   ]
  },
  {
   "cell_type": "code",
   "execution_count": null,
   "id": "0cb1eee9",
   "metadata": {
    "execution": {
     "iopub.execute_input": "2023-12-26T09:33:54.001777Z",
     "iopub.status.busy": "2023-12-26T09:33:54.000975Z",
     "iopub.status.idle": "2023-12-26T09:34:02.433938Z",
     "shell.execute_reply": "2023-12-26T09:34:02.432906Z"
    },
    "papermill": {
     "duration": 8.470758,
     "end_time": "2023-12-26T09:34:02.437268",
     "exception": false,
     "start_time": "2023-12-26T09:33:53.966510",
     "status": "completed"
    },
    "tags": []
   },
   "outputs": [],
   "source": [
    "sns.set(style=\"whitegrid\", palette=\"gist_rainbow_r\")\n",
    "\n",
    "pair_plot = sns.pairplot(df, corner=True, markers='.', diag_kind='kde', height=2)\n",
    "\n",
    "pair_plot.fig.suptitle(\"Pair Plot of df_nflx\", y=1.02)\n",
    "plt.show()"
   ]
  },
  {
   "cell_type": "markdown",
   "id": "e3212334",
   "metadata": {},
   "source": [
    "# PREPARE DATA\n"
   ]
  },
  {
   "cell_type": "code",
   "execution_count": null,
   "id": "fd8a280c",
   "metadata": {
    "execution": {
     "iopub.execute_input": "2023-12-26T09:34:02.513243Z",
     "iopub.status.busy": "2023-12-26T09:34:02.512281Z",
     "iopub.status.idle": "2023-12-26T09:34:02.517934Z",
     "shell.execute_reply": "2023-12-26T09:34:02.517092Z"
    },
    "papermill": {
     "duration": 0.045541,
     "end_time": "2023-12-26T09:34:02.520386",
     "exception": false,
     "start_time": "2023-12-26T09:34:02.474845",
     "status": "completed"
    },
    "tags": []
   },
   "outputs": [],
   "source": [
    "df = df.reset_index()"
   ]
  },
  {
   "cell_type": "code",
   "execution_count": null,
   "id": "11d4308e",
   "metadata": {
    "execution": {
     "iopub.execute_input": "2023-12-26T09:34:02.595073Z",
     "iopub.status.busy": "2023-12-26T09:34:02.594346Z",
     "iopub.status.idle": "2023-12-26T09:34:03.491500Z",
     "shell.execute_reply": "2023-12-26T09:34:03.490517Z"
    },
    "papermill": {
     "duration": 0.937573,
     "end_time": "2023-12-26T09:34:03.494048",
     "exception": false,
     "start_time": "2023-12-26T09:34:02.556475",
     "status": "completed"
    },
    "tags": []
   },
   "outputs": [],
   "source": [
    "plt.figure(figsize=(15,10))\n",
    "sns.lineplot(data=df, x='date', y='open', label='close')\n",
    "min_index = df['close'].idxmin()\n",
    "max_index = df['close'].idxmax()\n",
    "min_date = df.loc[min_index, 'date']\n",
    "max_date = df.loc[max_index, 'date']\n",
    "plt.axvline(x=min_date, color='r', linestyle='--', label='Min Close')\n",
    "plt.axvline(x=max_date, color='g', linestyle='--', label='Max Close')\n",
    "plt.legend()\n",
    "plt.show()"
   ]
  },
  {
   "cell_type": "code",
   "execution_count": null,
   "id": "9f6b9343",
   "metadata": {
    "execution": {
     "iopub.execute_input": "2023-12-26T09:34:03.647654Z",
     "iopub.status.busy": "2023-12-26T09:34:03.646710Z",
     "iopub.status.idle": "2023-12-26T09:34:03.653471Z",
     "shell.execute_reply": "2023-12-26T09:34:03.652463Z"
    },
    "papermill": {
     "duration": 0.049804,
     "end_time": "2023-12-26T09:34:03.656257",
     "exception": false,
     "start_time": "2023-12-26T09:34:03.606453",
     "status": "completed"
    },
    "tags": []
   },
   "outputs": [],
   "source": [
    "scaler = StandardScaler()\n",
    "data_scaled = scaler.fit_transform(df_plot[\"close\"].values.reshape(-1, 1))"
   ]
  },
  {
   "cell_type": "code",
   "execution_count": null,
   "id": "d4579b31",
   "metadata": {
    "execution": {
     "iopub.execute_input": "2023-12-26T09:34:03.735324Z",
     "iopub.status.busy": "2023-12-26T09:34:03.734535Z",
     "iopub.status.idle": "2023-12-26T09:34:03.741436Z",
     "shell.execute_reply": "2023-12-26T09:34:03.740470Z"
    },
    "papermill": {
     "duration": 0.050035,
     "end_time": "2023-12-26T09:34:03.743913",
     "exception": false,
     "start_time": "2023-12-26T09:34:03.693878",
     "status": "completed"
    },
    "tags": []
   },
   "outputs": [],
   "source": [
    "def create_sequences(data, seq_length):\n",
    "    sequences, labels = [], []\n",
    "    for i in range(len(data) - seq_length):\n",
    "        seq = data[i : i + seq_length, 0]\n",
    "        label = data[i + seq_length, 0]\n",
    "        sequences.append(seq)\n",
    "        labels.append(label)\n",
    "    return np.array(sequences), np.array(labels)"
   ]
  },
  {
   "cell_type": "code",
   "execution_count": null,
   "id": "7ee5e922",
   "metadata": {
    "execution": {
     "iopub.execute_input": "2023-12-26T09:34:03.820088Z",
     "iopub.status.busy": "2023-12-26T09:34:03.819664Z",
     "iopub.status.idle": "2023-12-26T09:34:03.841433Z",
     "shell.execute_reply": "2023-12-26T09:34:03.840441Z"
    },
    "papermill": {
     "duration": 0.063111,
     "end_time": "2023-12-26T09:34:03.844252",
     "exception": false,
     "start_time": "2023-12-26T09:34:03.781141",
     "status": "completed"
    },
    "tags": []
   },
   "outputs": [],
   "source": [
    "seq_length = 4\n",
    "n_samples = len(data_scaled)\n",
    "sequences, labels = create_sequences(data_scaled, seq_length)\n",
    "split = int(0.8 * len(sequences))\n",
    "X_train, y_train = sequences[:split], labels[:split]\n",
    "X_test, y_test = sequences[split:], labels[split:]"
   ]
  },
  {
   "cell_type": "markdown",
   "id": "93921e2f",
   "metadata": {
    "papermill": {
     "duration": 0.035965,
     "end_time": "2023-12-26T09:34:03.917206",
     "exception": false,
     "start_time": "2023-12-26T09:34:03.881241",
     "status": "completed"
    },
    "tags": []
   },
   "source": [
    "# LSTM"
   ]
  },
  {
   "cell_type": "code",
   "execution_count": null,
   "id": "bbc3c949",
   "metadata": {
    "execution": {
     "iopub.execute_input": "2023-12-26T09:34:03.993079Z",
     "iopub.status.busy": "2023-12-26T09:34:03.992178Z",
     "iopub.status.idle": "2023-12-26T09:34:04.403284Z",
     "shell.execute_reply": "2023-12-26T09:34:04.402145Z"
    },
    "papermill": {
     "duration": 0.452032,
     "end_time": "2023-12-26T09:34:04.406198",
     "exception": false,
     "start_time": "2023-12-26T09:34:03.954166",
     "status": "completed"
    },
    "tags": []
   },
   "outputs": [],
   "source": [
    "model_lstm = Sequential()\n",
    "model_lstm.add(LSTM(100, activation='tanh', input_shape=(seq_length, 1),return_sequences=True))\n",
    "model_lstm.add(LSTM(50, activation='tanh'))\n",
    "model_lstm.add(Dense(1))\n",
    "model_lstm.compile(optimizer=Adam(learning_rate=0.001), loss='mse')"
   ]
  },
  {
   "cell_type": "code",
   "execution_count": null,
   "id": "edb9dcc7",
   "metadata": {
    "execution": {
     "iopub.execute_input": "2023-12-26T09:34:04.483337Z",
     "iopub.status.busy": "2023-12-26T09:34:04.482561Z",
     "iopub.status.idle": "2023-12-26T09:34:37.091784Z",
     "shell.execute_reply": "2023-12-26T09:34:37.090656Z"
    },
    "papermill": {
     "duration": 32.651265,
     "end_time": "2023-12-26T09:34:37.094582",
     "exception": false,
     "start_time": "2023-12-26T09:34:04.443317",
     "status": "completed"
    },
    "tags": []
   },
   "outputs": [],
   "source": [
    "model_lstm.fit(X_train, y_train, epochs=30, batch_size=64,validation_data=(X_test, y_test))\n",
    "predictions_lstm = model_lstm.predict(X_test)"
   ]
  },
  {
   "cell_type": "code",
   "execution_count": null,
   "id": "70a2aa87",
   "metadata": {
    "execution": {
     "iopub.execute_input": "2023-12-26T09:34:37.265255Z",
     "iopub.status.busy": "2023-12-26T09:34:37.264842Z",
     "iopub.status.idle": "2023-12-26T09:34:37.270387Z",
     "shell.execute_reply": "2023-12-26T09:34:37.269490Z"
    },
    "papermill": {
     "duration": 0.094304,
     "end_time": "2023-12-26T09:34:37.272633",
     "exception": false,
     "start_time": "2023-12-26T09:34:37.178329",
     "status": "completed"
    },
    "tags": []
   },
   "outputs": [],
   "source": [
    "predictions__LSTM = scaler.inverse_transform(predictions_lstm)\n",
    "y_test_actual_LSTM = scaler.inverse_transform(y_test.reshape(-1, 1))"
   ]
  },
  {
   "cell_type": "code",
   "execution_count": null,
   "id": "aa768d6c",
   "metadata": {
    "execution": {
     "iopub.execute_input": "2023-12-26T09:34:37.441123Z",
     "iopub.status.busy": "2023-12-26T09:34:37.440089Z",
     "iopub.status.idle": "2023-12-26T09:34:37.455379Z",
     "shell.execute_reply": "2023-12-26T09:34:37.453966Z"
    },
    "papermill": {
     "duration": 0.102558,
     "end_time": "2023-12-26T09:34:37.458328",
     "exception": false,
     "start_time": "2023-12-26T09:34:37.355770",
     "status": "completed"
    },
    "tags": []
   },
   "outputs": [],
   "source": [
    "dates_test = df['date'].iloc[split + seq_length:]\n",
    "df_plot_lstm = pd.DataFrame({'Dates': dates_test, 'Real': y_test_actual_LSTM.flatten(), 'Predict': predictions__LSTM.flatten()})\n",
    "df_plot_lstm.head(3)"
   ]
  },
  {
   "cell_type": "markdown",
   "id": "69e5be1e",
   "metadata": {
    "papermill": {
     "duration": 0.084188,
     "end_time": "2023-12-26T09:34:37.627706",
     "exception": false,
     "start_time": "2023-12-26T09:34:37.543518",
     "status": "completed"
    },
    "tags": []
   },
   "source": [
    "# LSTM + ATTENTION"
   ]
  },
  {
   "cell_type": "code",
   "execution_count": null,
   "id": "523bdb8c",
   "metadata": {
    "execution": {
     "iopub.execute_input": "2023-12-26T09:34:37.979630Z",
     "iopub.status.busy": "2023-12-26T09:34:37.978214Z",
     "iopub.status.idle": "2023-12-26T09:34:38.936384Z",
     "shell.execute_reply": "2023-12-26T09:34:38.934990Z"
    },
    "papermill": {
     "duration": 1.04812,
     "end_time": "2023-12-26T09:34:38.939611",
     "exception": false,
     "start_time": "2023-12-26T09:34:37.891491",
     "status": "completed"
    },
    "tags": []
   },
   "outputs": [],
   "source": [
    "model_lstm_attention = Sequential()\n",
    "model_lstm_attention.add(LSTM(100, activation='tanh', input_shape=(seq_length, 1), return_sequences=True, kernel_initializer=HeNormal()))\n",
    "model_lstm_attention.add(SeqSelfAttention(attention_activation='tanh'))\n",
    "model_lstm_attention.add(LSTM(50, activation='tanh', return_sequences=False, kernel_initializer=HeNormal()))\n",
    "model_lstm_attention.add(Dense(1, kernel_initializer=HeNormal()))\n",
    "model_lstm_attention.compile(optimizer=Adam(learning_rate=0.001), loss='mse')"
   ]
  },
  {
   "cell_type": "code",
   "execution_count": null,
   "id": "cff2ecad",
   "metadata": {
    "execution": {
     "iopub.execute_input": "2023-12-26T09:34:39.113127Z",
     "iopub.status.busy": "2023-12-26T09:34:39.112578Z",
     "iopub.status.idle": "2023-12-26T09:35:42.226444Z",
     "shell.execute_reply": "2023-12-26T09:35:42.225461Z"
    },
    "papermill": {
     "duration": 63.202828,
     "end_time": "2023-12-26T09:35:42.229159",
     "exception": false,
     "start_time": "2023-12-26T09:34:39.026331",
     "status": "completed"
    },
    "tags": []
   },
   "outputs": [],
   "source": [
    "model_lstm_attention.fit(X_train, y_train, epochs=40, batch_size=32,validation_data=(X_test, y_test))\n",
    "predictions_scaled_lstm_attention = model_lstm_attention.predict(X_test)"
   ]
  },
  {
   "cell_type": "code",
   "execution_count": null,
   "id": "3df2b11f",
   "metadata": {
    "execution": {
     "iopub.execute_input": "2023-12-26T09:35:42.602196Z",
     "iopub.status.busy": "2023-12-26T09:35:42.600912Z",
     "iopub.status.idle": "2023-12-26T09:35:42.608331Z",
     "shell.execute_reply": "2023-12-26T09:35:42.606949Z"
    },
    "papermill": {
     "duration": 0.194961,
     "end_time": "2023-12-26T09:35:42.610977",
     "exception": false,
     "start_time": "2023-12-26T09:35:42.416016",
     "status": "completed"
    },
    "tags": []
   },
   "outputs": [],
   "source": [
    "predictions_lstm_attention = scaler.inverse_transform(predictions_scaled_lstm_attention)\n",
    "y_test_lstm_attention = scaler.inverse_transform(y_test.reshape(-1, 1))"
   ]
  },
  {
   "cell_type": "code",
   "execution_count": null,
   "id": "f779e2b2",
   "metadata": {
    "execution": {
     "iopub.execute_input": "2023-12-26T09:35:42.983740Z",
     "iopub.status.busy": "2023-12-26T09:35:42.982568Z",
     "iopub.status.idle": "2023-12-26T09:35:42.996734Z",
     "shell.execute_reply": "2023-12-26T09:35:42.995500Z"
    },
    "papermill": {
     "duration": 0.204224,
     "end_time": "2023-12-26T09:35:42.999249",
     "exception": false,
     "start_time": "2023-12-26T09:35:42.795025",
     "status": "completed"
    },
    "tags": []
   },
   "outputs": [],
   "source": [
    "df_plot_lstm_attention = pd.DataFrame({'Dates': dates_test, 'Real':y_test_lstm_attention.flatten(), 'Predict': predictions_lstm_attention.flatten()})\n",
    "df_plot_lstm_attention.head(3)"
   ]
  },
  {
   "cell_type": "markdown",
   "id": "88f87f5d",
   "metadata": {
    "papermill": {
     "duration": 0.182934,
     "end_time": "2023-12-26T09:35:43.367177",
     "exception": false,
     "start_time": "2023-12-26T09:35:43.184243",
     "status": "completed"
    },
    "tags": []
   },
   "source": [
    "# RNN"
   ]
  },
  {
   "cell_type": "code",
   "execution_count": null,
   "id": "30f2a389",
   "metadata": {
    "execution": {
     "iopub.execute_input": "2023-12-26T09:35:43.740689Z",
     "iopub.status.busy": "2023-12-26T09:35:43.740005Z",
     "iopub.status.idle": "2023-12-26T09:35:43.999926Z",
     "shell.execute_reply": "2023-12-26T09:35:43.998879Z"
    },
    "papermill": {
     "duration": 0.448821,
     "end_time": "2023-12-26T09:35:44.002730",
     "exception": false,
     "start_time": "2023-12-26T09:35:43.553909",
     "status": "completed"
    },
    "tags": []
   },
   "outputs": [],
   "source": [
    "# Setting a seed for the HeNormal initializer\n",
    "he_normal_initializer = HeNormal(seed=42)\n",
    "\n",
    "model_RNN = Sequential()\n",
    "model_RNN.add(SimpleRNN(100, activation='tanh', input_shape=(seq_length, 1), return_sequences=True, kernel_initializer=he_normal_initializer))\n",
    "model_RNN.add(SeqSelfAttention(attention_activation='tanh', kernel_initializer=he_normal_initializer))\n",
    "model_RNN.add(SimpleRNN(50, activation='tanh', kernel_initializer=he_normal_initializer))\n",
    "model_RNN.add(Dense(1, kernel_initializer=he_normal_initializer))\n",
    "model_RNN.compile(optimizer=Adam(learning_rate=0.001), loss='mse')"
   ]
  },
  {
   "cell_type": "code",
   "execution_count": null,
   "id": "3bf44155",
   "metadata": {
    "execution": {
     "iopub.execute_input": "2023-12-26T09:35:44.374977Z",
     "iopub.status.busy": "2023-12-26T09:35:44.374545Z",
     "iopub.status.idle": "2023-12-26T09:36:06.307153Z",
     "shell.execute_reply": "2023-12-26T09:36:06.305811Z"
    },
    "papermill": {
     "duration": 22.123102,
     "end_time": "2023-12-26T09:36:06.310061",
     "exception": false,
     "start_time": "2023-12-26T09:35:44.186959",
     "status": "completed"
    },
    "tags": []
   },
   "outputs": [],
   "source": [
    "model_RNN.fit(X_train, y_train, epochs=30, batch_size=64,validation_data=(X_test, y_test))\n",
    "predictions_scaled_RNN = model_RNN.predict(X_test)"
   ]
  },
  {
   "cell_type": "code",
   "execution_count": null,
   "id": "f04b0bc1",
   "metadata": {
    "execution": {
     "iopub.execute_input": "2023-12-26T09:36:06.749623Z",
     "iopub.status.busy": "2023-12-26T09:36:06.748989Z",
     "iopub.status.idle": "2023-12-26T09:36:06.754095Z",
     "shell.execute_reply": "2023-12-26T09:36:06.753266Z"
    },
    "papermill": {
     "duration": 0.22632,
     "end_time": "2023-12-26T09:36:06.756316",
     "exception": false,
     "start_time": "2023-12-26T09:36:06.529996",
     "status": "completed"
    },
    "tags": []
   },
   "outputs": [],
   "source": [
    "predictions_RNN = scaler.inverse_transform(predictions_scaled_RNN)\n",
    "y_test_RNN = scaler.inverse_transform(y_test.reshape(-1, 1))"
   ]
  },
  {
   "cell_type": "code",
   "execution_count": null,
   "id": "da1a8947",
   "metadata": {
    "execution": {
     "iopub.execute_input": "2023-12-26T09:36:07.189297Z",
     "iopub.status.busy": "2023-12-26T09:36:07.188909Z",
     "iopub.status.idle": "2023-12-26T09:36:07.204219Z",
     "shell.execute_reply": "2023-12-26T09:36:07.203016Z"
    },
    "papermill": {
     "duration": 0.235678,
     "end_time": "2023-12-26T09:36:07.206598",
     "exception": false,
     "start_time": "2023-12-26T09:36:06.970920",
     "status": "completed"
    },
    "tags": []
   },
   "outputs": [],
   "source": [
    "df_plot_RNN = pd.DataFrame({'Dates': dates_test, 'Real': y_test_RNN.flatten(),'Predict': predictions_RNN.flatten()})\n",
    "df_plot_RNN.head(3)"
   ]
  },
  {
   "cell_type": "markdown",
   "id": "d63a1cb4",
   "metadata": {
    "papermill": {
     "duration": 0.215555,
     "end_time": "2023-12-26T09:36:07.639416",
     "exception": false,
     "start_time": "2023-12-26T09:36:07.423861",
     "status": "completed"
    },
    "tags": []
   },
   "source": [
    "# GRU"
   ]
  },
  {
   "cell_type": "code",
   "execution_count": null,
   "id": "4a58a3ad",
   "metadata": {
    "execution": {
     "iopub.execute_input": "2023-12-26T09:36:08.067844Z",
     "iopub.status.busy": "2023-12-26T09:36:08.067446Z",
     "iopub.status.idle": "2023-12-26T09:36:08.305148Z",
     "shell.execute_reply": "2023-12-26T09:36:08.303838Z"
    },
    "papermill": {
     "duration": 0.455638,
     "end_time": "2023-12-26T09:36:08.308186",
     "exception": false,
     "start_time": "2023-12-26T09:36:07.852548",
     "status": "completed"
    },
    "tags": []
   },
   "outputs": [],
   "source": [
    "model_gru = Sequential()\n",
    "model_gru.add(GRU(100, activation='tanh', input_shape=(seq_length, 1),return_sequences=True))\n",
    "model_gru.add(GRU(50, activation='tanh'))\n",
    "model_gru.add(Dense(1))\n",
    "model_gru.compile(optimizer=Adam(learning_rate=0.01), loss='mse')"
   ]
  },
  {
   "cell_type": "code",
   "execution_count": null,
   "id": "72d9ff1a",
   "metadata": {
    "execution": {
     "iopub.execute_input": "2023-12-26T09:36:08.814744Z",
     "iopub.status.busy": "2023-12-26T09:36:08.813627Z",
     "iopub.status.idle": "2023-12-26T09:36:44.811541Z",
     "shell.execute_reply": "2023-12-26T09:36:44.810137Z"
    },
    "papermill": {
     "duration": 36.220813,
     "end_time": "2023-12-26T09:36:44.814646",
     "exception": false,
     "start_time": "2023-12-26T09:36:08.593833",
     "status": "completed"
    },
    "tags": []
   },
   "outputs": [],
   "source": [
    "model_gru.fit(X_train, y_train, epochs=30, batch_size=32,validation_data=(X_test, y_test))\n",
    "predictions_scaled_gru = model_gru.predict(X_test)"
   ]
  },
  {
   "cell_type": "code",
   "execution_count": null,
   "id": "f8dafd2a",
   "metadata": {
    "execution": {
     "iopub.execute_input": "2023-12-26T09:36:45.371313Z",
     "iopub.status.busy": "2023-12-26T09:36:45.369868Z",
     "iopub.status.idle": "2023-12-26T09:36:45.376574Z",
     "shell.execute_reply": "2023-12-26T09:36:45.375269Z"
    },
    "papermill": {
     "duration": 0.287949,
     "end_time": "2023-12-26T09:36:45.379202",
     "exception": false,
     "start_time": "2023-12-26T09:36:45.091253",
     "status": "completed"
    },
    "tags": []
   },
   "outputs": [],
   "source": [
    "predictions_GRU = scaler.inverse_transform(predictions_scaled_gru)\n",
    "y_test_GRU = scaler.inverse_transform(y_test.reshape(-1, 1))"
   ]
  },
  {
   "cell_type": "code",
   "execution_count": null,
   "id": "18bb8d80",
   "metadata": {
    "execution": {
     "iopub.execute_input": "2023-12-26T09:36:45.934187Z",
     "iopub.status.busy": "2023-12-26T09:36:45.933726Z",
     "iopub.status.idle": "2023-12-26T09:36:45.947445Z",
     "shell.execute_reply": "2023-12-26T09:36:45.946230Z"
    },
    "papermill": {
     "duration": 0.294663,
     "end_time": "2023-12-26T09:36:45.950035",
     "exception": false,
     "start_time": "2023-12-26T09:36:45.655372",
     "status": "completed"
    },
    "tags": []
   },
   "outputs": [],
   "source": [
    "df_plot_GRU = pd.DataFrame({'Dates': dates_test, 'Real': y_test_GRU.flatten(),'Predict': predictions_GRU.flatten()})\n",
    "df_plot_GRU.head(3)"
   ]
  },
  {
   "cell_type": "markdown",
   "id": "e2ba035e",
   "metadata": {
    "papermill": {
     "duration": 0.274613,
     "end_time": "2023-12-26T09:36:46.498450",
     "exception": false,
     "start_time": "2023-12-26T09:36:46.223837",
     "status": "completed"
    },
    "tags": []
   },
   "source": [
    "# Prediction Evaluation"
   ]
  },
  {
   "cell_type": "code",
   "execution_count": null,
   "id": "d864433a",
   "metadata": {
    "execution": {
     "iopub.execute_input": "2023-12-26T09:36:47.046869Z",
     "iopub.status.busy": "2023-12-26T09:36:47.046139Z",
     "iopub.status.idle": "2023-12-26T09:36:47.062863Z",
     "shell.execute_reply": "2023-12-26T09:36:47.061897Z"
    },
    "papermill": {
     "duration": 0.292778,
     "end_time": "2023-12-26T09:36:47.065495",
     "exception": false,
     "start_time": "2023-12-26T09:36:46.772717",
     "status": "completed"
    },
    "tags": []
   },
   "outputs": [],
   "source": [
    "mse_lstm = mean_squared_error(df_plot_lstm['Real'], df_plot_lstm['Predict'])\n",
    "mse_lstm_attention = mean_squared_error(df_plot_lstm_attention['Real'],df_plot_lstm_attention['Predict'])\n",
    "mse_rnn = mean_squared_error(df_plot_RNN['Real'], df_plot_RNN['Predict'])\n",
    "mse_GRU = mean_squared_error(df_plot_GRU['Real'], df_plot_GRU['Predict'])\n",
    "\n",
    "r2_lstm = r2_score(df_plot_lstm['Real'], df_plot_lstm['Predict'])\n",
    "r2_df_plot_lstm_attention= r2_score(df_plot_lstm_attention['Real'],df_plot_lstm_attention['Predict'])\n",
    "r2_rnn = r2_score(df_plot_RNN['Real'], df_plot_RNN['Predict'])\n",
    "r2_GRU = r2_score(df_plot_GRU['Real'], df_plot_GRU['Predict'])\n",
    "\n",
    "rmse_lstm = mean_squared_error(df_plot_lstm['Real'], df_plot_lstm['Predict'],squared=False)\n",
    "rmse_rnn = mean_squared_error(df_plot_lstm_attention['Real'],df_plot_lstm_attention['Predict'], squared=False)\n",
    "rmse_lstm = mean_squared_error(df_plot_RNN['Real'], df_plot_RNN['Predict'],squared=False)\n",
    "rmse_GRU = mean_squared_error(df_plot_GRU['Real'], df_plot_GRU['Predict'],squared=False)"
   ]
  },
  {
   "cell_type": "markdown",
   "id": "c57d1d45",
   "metadata": {},
   "source": [
    "# LSTM / ATTENTION / GRU / RNN"
   ]
  },
  {
   "cell_type": "code",
   "execution_count": null,
   "id": "c700d31e",
   "metadata": {},
   "outputs": [],
   "source": [
    "def plot_subplot(ax, df_real, df_predict, title, r2, mse, rmse):\n",
    "    sns.lineplot(\n",
    "        x=\"Dates\",\n",
    "        y=\"Real\",\n",
    "        data=df_real,\n",
    "        label=\"Real\",\n",
    "        color=\"blue\",\n",
    "        ax=ax,\n",
    "        linewidth=2,\n",
    "    )\n",
    "    sns.lineplot(\n",
    "        x=\"Dates\",\n",
    "        y=\"Predict\",\n",
    "        data=df_predict,\n",
    "        label=\"Predict\",\n",
    "        color=\"red\",\n",
    "        linestyle=\"dashed\",\n",
    "        ax=ax,\n",
    "        linewidth=2,\n",
    "    )\n",
    "    ax.text(\n",
    "        0.5, 0.80, f\"R²: {r2:.4f}\", fontsize=8, color=\"black\", transform=ax.transAxes\n",
    "    )\n",
    "    ax.text(\n",
    "        0.5, 0.75, f\"MSE: {mse:.4f}\", fontsize=8, color=\"black\", transform=ax.transAxes\n",
    "    )\n",
    "    ax.text(\n",
    "        0.5,\n",
    "        0.70,\n",
    "        f\"RMSE: {rmse:.4f}\",\n",
    "        fontsize=8,\n",
    "        color=\"black\",\n",
    "        transform=ax.transAxes,\n",
    "    )\n",
    "    ax.set_title(title, fontsize=10)\n",
    "    ax.legend(fontsize=8)\n",
    "    ax.set_xticks(ax.get_xticks())\n",
    "    ax.set_xticklabels(ax.get_xticklabels(), rotation=45, fontsize=6)\n",
    "\n",
    "\n",
    "fig, axes = plt.subplots(2, 2, figsize=(14, 10))\n",
    "\n",
    "plot_subplot(\n",
    "    axes[0, 0], df_plot_lstm, df_plot_lstm, \"LSTM\", r2_lstm, mse_lstm, rmse_lstm\n",
    ")\n",
    "plot_subplot(\n",
    "    axes[0, 1],\n",
    "    df_plot_lstm_attention,\n",
    "    df_plot_lstm_attention,\n",
    "    \"LSTM + Attention\",\n",
    "    r2_rnn,\n",
    "    mse_rnn,\n",
    "    rmse_rnn,\n",
    ")\n",
    "plot_subplot(axes[1, 0], df_plot_RNN, df_plot_RNN, \"RNN\", r2_rnn, mse_rnn, rmse_rnn)\n",
    "plot_subplot(axes[1, 1], df_plot_GRU, df_plot_GRU, \"GRU\", r2_GRU, mse_GRU, rmse_GRU)\n",
    "plt.tight_layout()\n",
    "plt.show()"
   ]
  },
  {
   "cell_type": "markdown",
   "id": "e7b0f2bb",
   "metadata": {},
   "source": [
    "# SAVE MODEL TO ONNX"
   ]
  },
  {
   "cell_type": "code",
   "execution_count": null,
   "id": "f3767bcb",
   "metadata": {},
   "outputs": [],
   "source": [
    "# Save Model\n",
    "model = [model_lstm, model_lstm_attention, model_RNN, model_gru]\n",
    "\n",
    "inp_model_name = \"model.Test.lstm-rnn-gru.onnx\"\n",
    "output_folder = \"D:/\"\n",
    "if not os.path.exists(output_folder):\n",
    "    os.makedirs(output_folder)\n",
    "output_path = os.path.join(output_folder, inp_model_name)\n",
    "if os.path.exists(output_path):\n",
    "    os.remove(output_path)\n",
    "\n",
    "onnx_model = tf2onnx.convert.from_keras(model[1], output_path=output_path) # Select the model to analyze in mq5.\n",
    "print(f\"Model Saved in {output_path}\")"
   ]
  }
 ],
 "metadata": {
  "kaggle": {
   "accelerator": "none",
   "dataSources": [
    {
     "datasetId": 4118850,
     "sourceId": 7137512,
     "sourceType": "datasetVersion"
    }
   ],
   "dockerImageVersionId": 30626,
   "isGpuEnabled": false,
   "isInternetEnabled": true,
   "language": "python",
   "sourceType": "notebook"
  },
  "kernelspec": {
   "display_name": "Python 3",
   "language": "python",
   "name": "python3"
  },
  "language_info": {
   "codemirror_mode": {
    "name": "ipython",
    "version": 3
   },
   "file_extension": ".py",
   "mimetype": "text/x-python",
   "name": "python",
   "nbconvert_exporter": "python",
   "pygments_lexer": "ipython3",
   "version": "3.10.8"
  },
  "papermill": {
   "default_parameters": {},
   "duration": 240.872374,
   "end_time": "2023-12-26T09:37:00.740911",
   "environment_variables": {},
   "exception": null,
   "input_path": "__notebook__.ipynb",
   "output_path": "__notebook__.ipynb",
   "parameters": {},
   "start_time": "2023-12-26T09:32:59.868537",
   "version": "2.4.0"
  }
 },
 "nbformat": 4,
 "nbformat_minor": 5
}
